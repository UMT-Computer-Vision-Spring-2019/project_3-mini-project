{
 "cells": [
  {
   "cell_type": "markdown",
   "metadata": {},
   "source": [
    "# Project 3: Where's Waldo?\n",
    "\n",
    "Due Mar. 4th\n",
    "\n",
    "So far, we've mostly focused on using imagery to do stuff for which it is better suited than a human: calculating camera locations from imagery, finding an optimal projective transform to stitch images together, and (soon) we'll be doing \"structure from motion\" in which we create 3D models of the world from collections of 2D images.  These are tasks primarily based around measuring things and doing calculations.  On the other side of the coin is object recognition (identifying the semantic content of a scene), and the best contemporary computer vision algorithms do object recognition at roughly the level of a 2 year old human (with some exceptions).  For this (mini-)project, we're going to delve into a topic that sort of straddles the line between these two general realms of computer vision.\n",
    "\n",
    "As a motivating example, did you ever play the game Where's Waldo.  There are books filled with images like the following:\n",
    "<img src='waldo_1.jpg'>\n",
    "The objective, of course, is to find Waldo, the man in the red striped shirt and beanie wearing glasses.  He looks like this:\n",
    "<img src='waldo_template.jpg'>\n",
    "These scenes are (obviously) intended to have a bunch of visual clutter to make this task reasonably challenging.\n",
    "\n",
    "Your task will be to come up with an algorithm that locates the template image (Waldo's face) and the target image (the larger scene).  This is called *template matching*, and it's a primitive form of feature recognition.  \n",
    "\n",
    "## Implementation\n",
    "### Template Matching\n",
    "Template matching works in a way that is very similar to filtering:  slide the template image over every location in the target image, computing some sort of metric at each position.  In practice, one commonly used choice for an error metric is the one that you've already used for matching keypoint descriptors: z-normalized sum square error.  Another choice is [normalized cross-correlation](https://en.wikipedia.org/wiki/Cross-correlation#Normalization).  Once these metrics have been computed, simply find the argmin (for SSE) or argmax (for NCC), and this will be the location of the best match.  \n",
    "\n",
    "**Your task is to implement template matching.  Use 'waldo_template.jpg' as the template and 'waldo_1.jpg' as the target image.  Where's Waldo? **\n",
    "\n",
    "### Not so fast!!!  What about scale!\n",
    "Oh, no.  As it turns out, the template I've provided is not the same scale as the Waldo in the image.  To deal with this, you'll need to create an image pyramid for the template (See Szeliski 3.5, and [Mubarak Shah's lecture on this topic](https://www.youtube.com/watch?v=KO7jJt0WHag&feature=youtu.be)).  This essentially just means creating a sequence of downsampled images of the template, and trying each one in hopes that one of the resulting down-scaled templates matches the feature in the target image.  **Create a sequence of templates with which to perform feature matching, each one 1/2 the resolution of the previous (so 1/4 the total number of pixels).  To avoid aliasing, before downsampling perform a $\\sigma=1$ Gaussian Blur of the image.  Once you've built your image pyramid, find the argmin/max in 3 dimensions (u,v,template scale)**.\n",
    "\n",
    "## Generalization\n",
    "**Waldo appears in every Where's Waldo image (obviously).  Try using the same technique on 'waldo_2.jpg'.  Does the algorithm work?**  I confess that I pulled the image of waldo for the template directly from 'waldo_1.jpg', so for the correct scale, there is something close to an exact match (i.e. SSE=0).  However, Waldo, while easily recognizable to the human eye after undergoing the small scale deformations associated with artistic license, is not so easily recognizable via template matching.  We will return to a similar problem when discussing object recognition, and hopefully this example will motivate the need to come up with representations of objects (like Waldo) that are more robust.\n"
   ]
  },
  {
   "cell_type": "code",
   "execution_count": null,
   "metadata": {
    "collapsed": true
   },
   "outputs": [],
   "source": [
    "import numpy as np\n",
    "def gauss_kernal(size, var):\n",
    "    kernel = np.zeros(shape=(size,size))\n",
    "    for i in range(size):\n",
    "        for j in range(size):\n",
    "            kernel[i][j] = mt.exp( -((i - (size-1)/2)**2 \n",
    "\n",
    "    kernel = kernel / kernel.sum()\n",
    "    return kernel  \n",
    "\n",
    "def convolve(g,h=gauss_kernal(5,1)): # h is kernel, g is the image\n",
    "    start = 1\n",
    "    for i in range(start,len(g[:,1])-1):\n",
    "        for j in range(start, len(g[i,:])-1):\n",
    "            f = g[i-1:i+2, j-1:j+2] #FIXME\n",
    "\n",
    "            # need another array to put value into\n",
    "            total = h*f\n",
    "\n",
    "            I_gray_copy[i][j] = sum(sum(total))\n",
    "  \n",
    "    \n",
    "    return I_gray_copy\n",
    "\n",
    "\n",
    "\n",
    "def downsample(image,n=4):\n",
    "    pyramid = []\n",
    "    for i in range(n):\n",
    "        image_conv = convolve(image)\n",
    "        pyramid.append(image_conv)\n",
    "        image = image[::2,::2]\n",
    "                                     \n",
    "def cross_corr(imA,imB):\n",
    "    imB_stdv = np.std(imB)\n",
    "    imB_mean = np.mean(imB)                                 \n",
    "    imB_U,imB_V = imB.shape\n",
    "    imA_stdv = np.std(imA)\n",
    "    imA_mean = np.mean(imA)\n",
    "    imA_U,imA_V = imA.shape   \n",
    "    N = imA_U*imA_V\n",
    "    sumboi = 0               \n",
    "    for j in range(imA_U):\n",
    "        for k in range(imA_V):\n",
    "            sumboi += (1/(imA_stdv*imB_stdv)*((imA[j,k] - imA_mean)*(imB[j,k] - imB_mean))\n",
    "    \n",
    "    "
   ]
  }
 ],
 "metadata": {
  "kernelspec": {
   "display_name": "Python 3",
   "language": "python",
   "name": "python3"
  },
  "language_info": {
   "codemirror_mode": {
    "name": "ipython",
    "version": 3
   },
   "file_extension": ".py",
   "mimetype": "text/x-python",
   "name": "python",
   "nbconvert_exporter": "python",
   "pygments_lexer": "ipython3",
   "version": "3.6.3"
  }
 },
 "nbformat": 4,
 "nbformat_minor": 2
}
